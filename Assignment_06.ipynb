{
 "cells": [
  {
   "cell_type": "markdown",
   "id": "ed71365f-cad3-4d32-9cdc-a3d1d27be53b",
   "metadata": {},
   "source": [
    "# Assignment No 06:\n",
    "# NAME: Assad karim"
   ]
  },
  {
   "cell_type": "code",
   "execution_count": 20,
   "id": "43e20fa3-fdb3-4108-9d0c-7ff93afc645a",
   "metadata": {},
   "outputs": [
    {
     "name": "stdout",
     "output_type": "stream",
     "text": [
      "* \n",
      "* * \n",
      "* * * \n",
      "* * * * \n",
      "* * * * * \n",
      "* * * * \n",
      "* * * \n",
      "* * \n",
      "* \n"
     ]
    }
   ],
   "source": [
    "# ANSWER 01\n",
    "\n",
    "n = 5\n",
    "\n",
    "for i in range(1, n + 1):\n",
    "    for j in range(1, i + 1):\n",
    "        print('*', end=' ')\n",
    "    print()\n",
    "\n",
    "for i in range(n - 1, 0, -1):\n",
    "    for j in range(1, i + 1):\n",
    "        print('*', end=' ')\n",
    "    print()\n"
   ]
  },
  {
   "cell_type": "code",
   "execution_count": 8,
   "id": "5bfe1e15-fbe1-4b48-a8be-c33bbda5adb6",
   "metadata": {},
   "outputs": [
    {
     "name": "stdin",
     "output_type": "stream",
     "text": [
      "Enter an alphabet:  U\n"
     ]
    },
    {
     "name": "stdout",
     "output_type": "stream",
     "text": [
      "Vowel\n"
     ]
    }
   ],
   "source": [
    "# ANSWER 01\n",
    "\n",
    "\n",
    "# Vowel or Consonant*\n",
    "\n",
    "char = input(\"Enter an alphabet: \")\n",
    "if char.lower() in 'aeiou':\n",
    "    print(\"Vowel\")\n",
    "else:\n",
    "    print(\"Consonant\")\n",
    "\n",
    "\n",
    "\n"
   ]
  },
  {
   "cell_type": "code",
   "execution_count": 6,
   "id": "23528827-f000-4073-b568-c9fa04e405e3",
   "metadata": {},
   "outputs": [
    {
     "name": "stdin",
     "output_type": "stream",
     "text": [
      "Input a number:  8\n"
     ]
    },
    {
     "name": "stdout",
     "output_type": "stream",
     "text": [
      "8 x 1 = 8\n",
      "8 x 2 = 16\n",
      "8 x 3 = 24\n",
      "8 x 4 = 32\n",
      "8 x 5 = 40\n",
      "8 x 6 = 48\n",
      "8 x 7 = 56\n",
      "8 x 8 = 64\n",
      "8 x 9 = 72\n",
      "8 x 10 = 80\n"
     ]
    }
   ],
   "source": [
    "# ANSWER 01\n",
    "\n",
    "# Multiplication Table*\n",
    "\n",
    "num = int(input(\"Input a number: \"))\n",
    "for i in range(1, 11):\n",
    "    print(f\"{num} x {i} = {num*i}\")\n",
    "\n"
   ]
  },
  {
   "cell_type": "code",
   "execution_count": 13,
   "id": "bac3be65-f6f6-48d5-aa9d-43ee6a7ceca3",
   "metadata": {},
   "outputs": [
    {
     "name": "stdin",
     "output_type": "stream",
     "text": [
      "Guess a number:  5\n",
      "Guess a number:  4\n",
      "Guess a number:  9\n"
     ]
    },
    {
     "name": "stdout",
     "output_type": "stream",
     "text": [
      "Well guessed!\n"
     ]
    }
   ],
   "source": [
    "#ANSWER 01\n",
    "\n",
    "# Guess a Number*\n",
    "\n",
    "import random\n",
    "num = random.randint(1, 9)\n",
    "while True:\n",
    "    guess = int(input(\"Guess a number: \"))\n",
    "    if guess == num:\n",
    "        print(\"Well guessed!\")\n",
    "        break\n"
   ]
  },
  {
   "cell_type": "code",
   "execution_count": 14,
   "id": "3346ef63-1684-4a4d-bbcc-d74cf8478334",
   "metadata": {},
   "outputs": [
    {
     "name": "stdout",
     "output_type": "stream",
     "text": [
      "{'Cierra Vega': (6.2, 72)}\n"
     ]
    }
   ],
   "source": [
    "#ANSWER 02\n",
    "\n",
    "\n",
    "# Filter Dictionary*\n",
    "\n",
    "students = {'Cierra Vega': (6.2, 72), 'Alden Cantrell': (5.9, 65), 'Kierra Gentry': (6.0, 68), 'Pierre Cox': (5.8, 66)}\n",
    "filtered = {k: v for k, v in students.items() if v[0] > 6 and v[1] > 70}\n",
    "print(filtered)"
   ]
  },
  {
   "cell_type": "code",
   "execution_count": 15,
   "id": "a0aa2d4d-7ee7-4aa2-bf96-788dcd8602aa",
   "metadata": {},
   "outputs": [
    {
     "name": "stdout",
     "output_type": "stream",
     "text": [
      "{'C1': [], 'C2': [], 'C3': []}\n"
     ]
    }
   ],
   "source": [
    "#ANSWER 03\n",
    "\n",
    "# Clear List Values\n",
    "\n",
    "dict = {'C1': [10, 20, 30], 'C2': [20, 30, 40], 'C3': [12, 34]}\n",
    "for key in dict:\n",
    "    dict[key] = []\n",
    "print(dict)\n",
    "\n"
   ]
  },
  {
   "cell_type": "code",
   "execution_count": 16,
   "id": "6ca08032-90b6-40d4-b41a-dbd25fc11036",
   "metadata": {},
   "outputs": [
    {
     "name": "stdout",
     "output_type": "stream",
     "text": [
      "The Nile runs through Egypt.\n",
      "The Amazon runs through Brazil.\n",
      "The Yangtze runs through China.\n",
      "['nile', 'amazon', 'yangtze']\n",
      "['egypt', 'brazil', 'china']\n"
     ]
    }
   ],
   "source": [
    "#ANSWÈŔ 04\n",
    "\n",
    "#  Rivers Dictionary*\n",
    "\n",
    "rivers = {'nile': 'egypt', 'amazon': 'brazil', 'yangtze': 'china'}\n",
    "for river, country in rivers.items():\n",
    "    print(f\"The {river.capitalize()} runs through {country.capitalize()}.\")\n",
    "print([river for river in rivers])\n",
    "print([country for country in rivers.values()])\n",
    "\n"
   ]
  },
  {
   "cell_type": "code",
   "execution_count": 19,
   "id": "c2f0e95d-c1cb-40cb-8a26-2c137d6dd4fe",
   "metadata": {},
   "outputs": [
    {
     "name": "stdin",
     "output_type": "stream",
     "text": [
      "Enter age:  5\n"
     ]
    },
    {
     "name": "stdout",
     "output_type": "stream",
     "text": [
      "Ticket price: $10\n"
     ]
    },
    {
     "name": "stdin",
     "output_type": "stream",
     "text": [
      "Do you want to exit? (yes/no):  1\n",
      "Enter age:  2\n"
     ]
    },
    {
     "name": "stdout",
     "output_type": "stream",
     "text": [
      "Free ticket!\n"
     ]
    },
    {
     "name": "stdin",
     "output_type": "stream",
     "text": [
      "Do you want to exit? (yes/no):  no\n",
      "Enter age:  9\n"
     ]
    },
    {
     "name": "stdout",
     "output_type": "stream",
     "text": [
      "Ticket price: $10\n"
     ]
    },
    {
     "name": "stdin",
     "output_type": "stream",
     "text": [
      "Do you want to exit? (yes/no):  Yes\n"
     ]
    }
   ],
   "source": [
    "#ANSWER 05\n",
    "while True:\n",
    "    age = int(input(\"Enter age: \"))\n",
    "    if age < 3:\n",
    "        print(\"Free ticket!\")\n",
    "    elif age <= 12:\n",
    "        print(\"Ticket price: $10\")\n",
    "    else:\n",
    "        print(\"Ticket price: $15\")\n",
    "    exit = input(\"Do you want to exit? (yes/no): \")\n",
    "    if exit.lower() == \"yes\":\n",
    "       break"
   ]
  },
  {
   "cell_type": "code",
   "execution_count": null,
   "id": "cc874ae4-cccb-41f4-ab84-a15d10e07c9f",
   "metadata": {},
   "outputs": [],
   "source": []
  }
 ],
 "metadata": {
  "kernelspec": {
   "display_name": "Python 3 (ipykernel)",
   "language": "python",
   "name": "python3"
  },
  "language_info": {
   "codemirror_mode": {
    "name": "ipython",
    "version": 3
   },
   "file_extension": ".py",
   "mimetype": "text/x-python",
   "name": "python",
   "nbconvert_exporter": "python",
   "pygments_lexer": "ipython3",
   "version": "3.11.4"
  }
 },
 "nbformat": 4,
 "nbformat_minor": 5
}
