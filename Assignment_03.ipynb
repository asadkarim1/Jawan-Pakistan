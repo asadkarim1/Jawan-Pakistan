{
 "cells": [
  {
   "cell_type": "markdown",
   "id": "a2bd52b7-ab7d-470a-b6f6-f66fa0d8978e",
   "metadata": {},
   "source": [
    "# Name: Assad Karim\n",
    "# Roll No :KJPADAC12677"
   ]
  },
  {
   "cell_type": "code",
   "execution_count": 1,
   "id": "e74ec2bd-f0db-460e-933e-01f2498cb2df",
   "metadata": {},
   "outputs": [
    {
     "name": "stdout",
     "output_type": "stream",
     "text": [
      "Twinkle, twinkle, little star,\n",
      "    How I wonder what you are!\n",
      "        Up above the world so high,\n",
      "        Like a diamond in the sky.\n",
      "Twinkle, twinkle, little star,\n",
      "    How I wonder what you are\n"
     ]
    }
   ],
   "source": [
    "# Question:01\n",
    "#Write a Python program to print the following string in a specific format (see the\n",
    "#output).\n",
    "print(\"Twinkle, twinkle, little star,\")\n",
    "print(\"    How I wonder what you are!\")\n",
    "print(\"        Up above the world so high,\")\n",
    "print(\"        Like a diamond in the sky.\")\n",
    "print(\"Twinkle, twinkle, little star,\")\n",
    "print(\"    How I wonder what you are\")"
   ]
  },
  {
   "cell_type": "code",
   "execution_count": 3,
   "id": "ba422d3c-f2c6-4ba7-acf2-fbdc29e70df5",
   "metadata": {},
   "outputs": [
    {
     "name": "stdout",
     "output_type": "stream",
     "text": [
      "Python version\n",
      "3.11.7 | packaged by Anaconda, Inc. | (main, Dec 15 2023, 18:05:47) [MSC v.1916 64 bit (AMD64)]\n",
      "Version info.\n",
      "sys.version_info(major=3, minor=11, micro=7, releaselevel='final', serial=0)\n"
     ]
    }
   ],
   "source": [
    "# Question 02:\n",
    "# Write a Python program to get the Python version you are using\n",
    "\n",
    "import sys\n",
    "print(\"Python version\")\n",
    "print(sys.version)\n",
    "print(\"Version info.\")\n",
    "print(sys.version_info)"
   ]
  },
  {
   "cell_type": "code",
   "execution_count": 4,
   "id": "f81155b3-2997-4329-8f3e-4e57201866d9",
   "metadata": {},
   "outputs": [
    {
     "name": "stdout",
     "output_type": "stream",
     "text": [
      "Current date and time: \n",
      "2024-08-03 04:52:14\n"
     ]
    }
   ],
   "source": [
    "# Question 03:\n",
    "# Write a Python program to display the current date and time.\n",
    "\n",
    "import datetime\n",
    "now = datetime.datetime.now()\n",
    "print(\"Current date and time: \")\n",
    "print(now.strftime(\"%Y-%m-%d %H:%M:%S\"))"
   ]
  },
  {
   "cell_type": "code",
   "execution_count": 6,
   "id": "869ef047-e7a3-4959-a430-2588bda1c89b",
   "metadata": {},
   "outputs": [
    {
     "name": "stdin",
     "output_type": "stream",
     "text": [
      "Enter the radius of the circle:  25\n"
     ]
    },
    {
     "name": "stdout",
     "output_type": "stream",
     "text": [
      "The area of the circle is: 1963.4954084936207\n"
     ]
    }
   ],
   "source": [
    "# Question 04\n",
    "# Write a Python program which accepts the radius of a circle from the user and compute\n",
    "#  the area.\n",
    "\n",
    "import math\n",
    "radius = float(input(\"Enter the radius of the circle: \"))\n",
    "area = math.pi * radius ** 2\n",
    "print(f\"The area of the circle is: {area}\")\n"
   ]
  },
  {
   "cell_type": "code",
   "execution_count": 7,
   "id": "918ef37c-321f-41ed-85d0-6cf4d4939b39",
   "metadata": {},
   "outputs": [
    {
     "name": "stdin",
     "output_type": "stream",
     "text": [
      "Enter your first name:  asad \n",
      "Enter your last name:  Karim\n"
     ]
    },
    {
     "name": "stdout",
     "output_type": "stream",
     "text": [
      "Karim asad \n"
     ]
    }
   ],
   "source": [
    "# Question 05\n",
    "#Write a Python program which accepts the user's first and last name and print them in\n",
    "#reverse order with a space between them.\n",
    "\n",
    "\n",
    "first_name = input(\"Enter your first name: \")\n",
    "last_name = input(\"Enter your last name: \")\n",
    "print(f\"{last_name} {first_name}\")"
   ]
  },
  {
   "cell_type": "code",
   "execution_count": 9,
   "id": "7bd9c3be-327d-4a54-9b83-7cd6cf2c0ce9",
   "metadata": {},
   "outputs": [
    {
     "name": "stdin",
     "output_type": "stream",
     "text": [
      "Enter first number:  25\n",
      "Enter second number:  26\n"
     ]
    },
    {
     "name": "stdout",
     "output_type": "stream",
     "text": [
      "The sum is: 51\n"
     ]
    }
   ],
   "source": [
    "# Question 06\n",
    "#Write a python program which takes two inputs from user and print them addition\n",
    "\n",
    "\n",
    "num1 = int(input(\"Enter first number: \"))\n",
    "num2 = int(input(\"Enter second number: \"))\n",
    "print(f\"The sum is: {num1 + num2}\")"
   ]
  },
  {
   "cell_type": "code",
   "execution_count": 10,
   "id": "467cb897-3981-4283-a815-5f7e15cbaa69",
   "metadata": {},
   "outputs": [
    {
     "name": "stdin",
     "output_type": "stream",
     "text": [
      "Enter marks for subject 1:  45\n",
      "Enter marks for subject 2:  4\n",
      "Enter marks for subject 3:  55\n",
      "Enter marks for subject 4:  54\n",
      "Enter marks for subject 5:  85\n"
     ]
    },
    {
     "name": "stdout",
     "output_type": "stream",
     "text": [
      "Total marks: 243.0\n",
      "Grade: F\n"
     ]
    }
   ],
   "source": [
    "# Question 07:\n",
    "#Write a program which takes 5 inputs from user for different subject’s marks, total it\n",
    "#and generate mark sheet using grades ?\n",
    "\n",
    "marks = []\n",
    "for i in range(5):\n",
    "    mark = float(input(f\"Enter marks for subject {i+1}: \"))\n",
    "    marks.append(mark)\n",
    "\n",
    "total = sum(marks)\n",
    "average = total / 5\n",
    "\n",
    "if average >= 90:\n",
    "    grade = 'A'\n",
    "elif average >= 80:\n",
    "    grade = 'B'\n",
    "elif average >= 70:\n",
    "    grade = 'C'\n",
    "elif average >= 60:\n",
    "    grade = 'D'\n",
    "else:\n",
    "    grade = 'F'\n",
    "\n",
    "print(f\"Total marks: {total}\")\n",
    "print(f\"Grade: {grade}\")"
   ]
  },
  {
   "cell_type": "code",
   "execution_count": 11,
   "id": "6755042b-a0f0-486f-9af7-1706534bd429",
   "metadata": {},
   "outputs": [
    {
     "name": "stdin",
     "output_type": "stream",
     "text": [
      "Enter a number:  45\n"
     ]
    },
    {
     "name": "stdout",
     "output_type": "stream",
     "text": [
      "45 is odd\n"
     ]
    }
   ],
   "source": [
    "# Question 08:\n",
    "#Write a program which take input from user and identify that the given number is even\n",
    "#or odd?\n",
    "\n",
    "num = int(input(\"Enter a number: \"))\n",
    "if num % 2 == 0:\n",
    "    print(f\"{num} is even\")\n",
    "else:\n",
    "    print(f\"{num} is odd\")"
   ]
  },
  {
   "cell_type": "code",
   "execution_count": 12,
   "id": "be6803e3-9c37-4b38-a120-219738beab18",
   "metadata": {},
   "outputs": [
    {
     "name": "stdout",
     "output_type": "stream",
     "text": [
      "The length of the list is: 5\n"
     ]
    }
   ],
   "source": [
    "# Question09\n",
    "# Write a program which print the length of the list?\n",
    "my_list = [1, 2, 3, 4, 5]\n",
    "print(f\"The length of the list is: {len(my_list)}\")"
   ]
  },
  {
   "cell_type": "code",
   "execution_count": 13,
   "id": "724dae04-6818-4876-bd5b-4b6c9e2be991",
   "metadata": {},
   "outputs": [
    {
     "name": "stdout",
     "output_type": "stream",
     "text": [
      "The sum of the list is: 15\n"
     ]
    }
   ],
   "source": [
    "# Question 10:\n",
    "#10.Write a Python program to sum all the numeric items in a list?\n",
    "\n",
    "my_list = [1, 2, 3, 4, 5]\n",
    "total = sum(my_list)\n",
    "print(f\"The sum of the list is: {total}\")"
   ]
  },
  {
   "cell_type": "code",
   "execution_count": 14,
   "id": "919e021f-5a0f-43de-87bf-f5fdd47577b3",
   "metadata": {},
   "outputs": [
    {
     "name": "stdout",
     "output_type": "stream",
     "text": [
      "The largest number in the list is: 5\n"
     ]
    }
   ],
   "source": [
    "# Question 11\n",
    "# .Write a Python program to get the largest number from a numeric list.\n",
    "my_list = [1, 2, 3, 4, 5]\n",
    "largest = max(my_list)\n",
    "print(f\"The largest number in the list is: {largest}\")"
   ]
  },
  {
   "cell_type": "code",
   "execution_count": 15,
   "id": "63297f46-3f14-41d4-afb9-fbeebc497a1a",
   "metadata": {},
   "outputs": [
    {
     "name": "stdout",
     "output_type": "stream",
     "text": [
      "Elements less than 5: [1, 1, 2, 3]\n"
     ]
    }
   ],
   "source": [
    "# Question 12\n",
    "#Take a list, say for example this one:\n",
    "    #            a = [1, 1, 2, 3, 5, 8, 13, 21, 34, 55, 89]\n",
    "#Write a program that prints out all the elements of the list that are less than 5.\n",
    "\n",
    "a = [1, 1, 2, 3, 5, 8, 13, 21, 34, 55, 89]\n",
    "result = []\n",
    "\n",
    "for num in a:\n",
    "    if num < 5:\n",
    "        result.append(num)\n",
    "\n",
    "print(\"Elements less than 5:\", result)\n"
   ]
  },
  {
   "cell_type": "code",
   "execution_count": null,
   "id": "01d93b02-55f1-4d04-ac8a-bbdee3413d35",
   "metadata": {},
   "outputs": [],
   "source": []
  }
 ],
 "metadata": {
  "kernelspec": {
   "display_name": "Python 3 (ipykernel)",
   "language": "python",
   "name": "python3"
  },
  "language_info": {
   "codemirror_mode": {
    "name": "ipython",
    "version": 3
   },
   "file_extension": ".py",
   "mimetype": "text/x-python",
   "name": "python",
   "nbconvert_exporter": "python",
   "pygments_lexer": "ipython3",
   "version": "3.11.7"
  }
 },
 "nbformat": 4,
 "nbformat_minor": 5
}
