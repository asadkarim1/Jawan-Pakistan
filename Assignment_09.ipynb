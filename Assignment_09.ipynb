{
 "cells": [
  {
   "cell_type": "markdown",
   "id": "80806171-b690-49d5-9b5a-b8bdaf63d936",
   "metadata": {},
   "source": [
    "# NumPy Operations\r\n"
   ]
  },
  {
   "cell_type": "code",
   "execution_count": 1,
   "id": "a2bb9df0-4a3c-49d3-974e-54add19c9c9e",
   "metadata": {},
   "outputs": [],
   "source": [
    "import numpy as np\n",
    "import pandas as pd"
   ]
  },
  {
   "cell_type": "code",
   "execution_count": 2,
   "id": "6a210777-30de-4474-861d-e73edf5835c2",
   "metadata": {},
   "outputs": [
    {
     "name": "stdout",
     "output_type": "stream",
     "text": [
      "Original Array: [1 2 3 4 5]\n"
     ]
    }
   ],
   "source": [
    "# Create a NumPy array\n",
    "arr = np.array([1, 2, 3, 4, 5])\n",
    "\n",
    "print(\"Original Array:\", arr)"
   ]
  },
  {
   "cell_type": "markdown",
   "id": "f9674783-531e-4305-9918-5a93e68ff6ba",
   "metadata": {},
   "source": [
    "# Addition, Subtraction, Multiplication, and Division"
   ]
  },
  {
   "cell_type": "code",
   "execution_count": 3,
   "id": "9fb7d673-4bef-4c8d-bd75-60c2ba523f6c",
   "metadata": {},
   "outputs": [
    {
     "name": "stdout",
     "output_type": "stream",
     "text": [
      "Addition: [3 4 5 6 7]\n",
      "Subtraction: [-1  0  1  2  3]\n",
      "Multiplication: [ 2  4  6  8 10]\n",
      "Division: [0.5 1.  1.5 2.  2.5]\n"
     ]
    }
   ],
   "source": [
    "# Addition\n",
    "result = arr + 2\n",
    "print(\"Addition:\", result)\n",
    "\n",
    "# Subtraction\n",
    "result = arr - 2\n",
    "print(\"Subtraction:\", result)\n",
    "\n",
    "# Multiplication\n",
    "result = arr * 2\n",
    "print(\"Multiplication:\", result)\n",
    "\n",
    "# Division\n",
    "result = arr / 2\n",
    "print(\"Division:\", result)"
   ]
  },
  {
   "cell_type": "markdown",
   "id": "b95eea4e-3828-4e21-91a3-d8fe7786106e",
   "metadata": {},
   "source": [
    "# Indexing and Slicing"
   ]
  },
  {
   "cell_type": "code",
   "execution_count": 4,
   "id": "6eb8e597-cc06-48ef-a9ba-2acf539deda6",
   "metadata": {},
   "outputs": [
    {
     "name": "stdout",
     "output_type": "stream",
     "text": [
      "First element: 1\n",
      "Last element: 5\n",
      "Slice [1:3]: [2 3]\n"
     ]
    }
   ],
   "source": [
    "# Access specific elements\n",
    "print(\"First element:\", arr[0])\n",
    "print(\"Last element:\", arr[-1])\n",
    "\n",
    "# Slice a subset of the array\n",
    "print(\"Slice [1:3]:\", arr[1:3])"
   ]
  },
  {
   "cell_type": "markdown",
   "id": "b4e96273-db37-46ab-8a76-0a624730ae40",
   "metadata": {},
   "source": [
    "# Reshaping and Transposing"
   ]
  },
  {
   "cell_type": "code",
   "execution_count": 5,
   "id": "ae286317-c76b-496e-ae27-c12fc8caf995",
   "metadata": {},
   "outputs": [
    {
     "name": "stdout",
     "output_type": "stream",
     "text": [
      "Reshaped Array: [[1]\n",
      " [2]\n",
      " [3]\n",
      " [4]\n",
      " [5]]\n",
      "Transposed Array: [[1 2 3 4 5]]\n"
     ]
    }
   ],
   "source": [
    "# Reshape the array\n",
    "arr_reshaped = arr.reshape(5, 1)\n",
    "print(\"Reshaped Array:\", arr_reshaped)\n",
    "\n",
    "# Transpose the array\n",
    "arr_transposed = arr_reshaped.T\n",
    "print(\"Transposed Array:\", arr_transposed)"
   ]
  },
  {
   "cell_type": "markdown",
   "id": "1c40b452-1ae0-49a3-8d28-549eb1c7a12f",
   "metadata": {},
   "source": [
    "# Statistics"
   ]
  },
  {
   "cell_type": "code",
   "execution_count": 6,
   "id": "16d9b491-5891-480f-a005-363f62b1963e",
   "metadata": {},
   "outputs": [
    {
     "name": "stdout",
     "output_type": "stream",
     "text": [
      "Mean: 3.0\n",
      "Median: 3.0\n",
      "Standard Deviation: 1.4142135623730951\n",
      "Variance: 2.0\n"
     ]
    }
   ],
   "source": [
    "# Calculate mean, median, standard deviation, and variance\n",
    "print(\"Mean:\", np.mean(arr))\n",
    "print(\"Median:\", np.median(arr))\n",
    "print(\"Standard Deviation:\", np.std(arr))\n",
    "print(\"Variance:\", np.var(arr))"
   ]
  },
  {
   "cell_type": "markdown",
   "id": "a44eae0f-b6b0-4381-acfa-5d5d06d9fa53",
   "metadata": {},
   "source": [
    "# Arrays with Different Data Types"
   ]
  },
  {
   "cell_type": "code",
   "execution_count": 7,
   "id": "4fe3d101-09f8-4833-8303-c2de482897fe",
   "metadata": {},
   "outputs": [
    {
     "name": "stdout",
     "output_type": "stream",
     "text": [
      "Int Array: [1 2 3]\n",
      "Float Array: [1. 2. 3.]\n",
      "Bool Array: [ True False  True]\n",
      "Str Array: ['hello' 'world' 'numpy']\n"
     ]
    }
   ],
   "source": [
    "# Create arrays with different data types\n",
    "arr_int = np.array([1, 2, 3], dtype=int)\n",
    "arr_float = np.array([1.0, 2.0, 3.0], dtype=float)\n",
    "arr_bool = np.array([True, False, True], dtype=bool)\n",
    "arr_str = np.array([\"hello\", \"world\", \"numpy\"], dtype=str)\n",
    "\n",
    "print(\"Int Array:\", arr_int)\n",
    "print(\"Float Array:\", arr_float)\n",
    "print(\"Bool Array:\", arr_bool)\n",
    "print(\"Str Array:\", arr_str)"
   ]
  },
  {
   "cell_type": "markdown",
   "id": "c5cf9809-c26f-4c57-a491-f0ef71de4e62",
   "metadata": {},
   "source": [
    "# Concatenation"
   ]
  },
  {
   "cell_type": "code",
   "execution_count": 8,
   "id": "49b3bae4-bbf0-4805-b39c-c229417a28a8",
   "metadata": {},
   "outputs": [
    {
     "name": "stdout",
     "output_type": "stream",
     "text": [
      "Concatenated Array: [1. 2. 3. 1. 2. 3.]\n"
     ]
    }
   ],
   "source": [
    "# Concatenate arrays\n",
    "arr_concat = np.concatenate((arr_int, arr_float))\n",
    "print(\"Concatenated Array:\", arr_concat)"
   ]
  },
  {
   "cell_type": "markdown",
   "id": "81ea20b1-fe63-4a57-9511-90d2fe05c6b9",
   "metadata": {},
   "source": [
    "# Sorting"
   ]
  },
  {
   "cell_type": "code",
   "execution_count": 9,
   "id": "39aab008-64d9-4699-a197-87be6f74b4ef",
   "metadata": {},
   "outputs": [
    {
     "name": "stdout",
     "output_type": "stream",
     "text": [
      "Sorted Array (Ascending): [1 2 3 4 5]\n",
      "Sorted Array (Descending): [5 4 3 2 1]\n"
     ]
    }
   ],
   "source": [
    "# Sort the array in ascending order\n",
    "arr_sorted = np.sort(arr)\n",
    "print(\"Sorted Array (Ascending):\", arr_sorted)\n",
    "\n",
    "# Sort the array in descending order\n",
    "arr_sorted = np.sort(arr)[::-1]\n",
    "print(\"Sorted Array (Descending):\", arr_sorted)"
   ]
  },
  {
   "cell_type": "markdown",
   "id": "9ff41797-8e99-4edf-8d1f-1ad9816b9795",
   "metadata": {},
   "source": [
    "# Pandas"
   ]
  },
  {
   "cell_type": "code",
   "execution_count": 10,
   "id": "53ccaf1f-0e55-4dd1-99f7-ed103df306f8",
   "metadata": {},
   "outputs": [],
   "source": [
    "df = pd.read_csv('retail supermarket.csv')"
   ]
  },
  {
   "cell_type": "code",
   "execution_count": 12,
   "id": "96879812-d7b1-44e6-a01c-7fd620f8224d",
   "metadata": {},
   "outputs": [
    {
     "data": {
      "text/html": [
       "<div>\n",
       "<style scoped>\n",
       "    .dataframe tbody tr th:only-of-type {\n",
       "        vertical-align: middle;\n",
       "    }\n",
       "\n",
       "    .dataframe tbody tr th {\n",
       "        vertical-align: top;\n",
       "    }\n",
       "\n",
       "    .dataframe thead th {\n",
       "        text-align: right;\n",
       "    }\n",
       "</style>\n",
       "<table border=\"1\" class=\"dataframe\">\n",
       "  <thead>\n",
       "    <tr style=\"text-align: right;\">\n",
       "      <th></th>\n",
       "      <th>Ship Mode</th>\n",
       "      <th>Segment</th>\n",
       "      <th>Country</th>\n",
       "      <th>City</th>\n",
       "      <th>State</th>\n",
       "      <th>Postal Code</th>\n",
       "      <th>Region</th>\n",
       "      <th>Category</th>\n",
       "      <th>Sub-Category</th>\n",
       "      <th>Sales</th>\n",
       "      <th>Quantity</th>\n",
       "      <th>Discount</th>\n",
       "      <th>Profit</th>\n",
       "    </tr>\n",
       "  </thead>\n",
       "  <tbody>\n",
       "    <tr>\n",
       "      <th>0</th>\n",
       "      <td>Second Class</td>\n",
       "      <td>Consumer</td>\n",
       "      <td>United States</td>\n",
       "      <td>Henderson</td>\n",
       "      <td>Kentucky</td>\n",
       "      <td>42420</td>\n",
       "      <td>South</td>\n",
       "      <td>Furniture</td>\n",
       "      <td>Bookcases</td>\n",
       "      <td>261.9600</td>\n",
       "      <td>2</td>\n",
       "      <td>0.00</td>\n",
       "      <td>41.9136</td>\n",
       "    </tr>\n",
       "    <tr>\n",
       "      <th>1</th>\n",
       "      <td>Second Class</td>\n",
       "      <td>Consumer</td>\n",
       "      <td>United States</td>\n",
       "      <td>Henderson</td>\n",
       "      <td>Kentucky</td>\n",
       "      <td>42420</td>\n",
       "      <td>South</td>\n",
       "      <td>Furniture</td>\n",
       "      <td>Chairs</td>\n",
       "      <td>731.9400</td>\n",
       "      <td>3</td>\n",
       "      <td>0.00</td>\n",
       "      <td>219.5820</td>\n",
       "    </tr>\n",
       "    <tr>\n",
       "      <th>2</th>\n",
       "      <td>Second Class</td>\n",
       "      <td>Corporate</td>\n",
       "      <td>United States</td>\n",
       "      <td>Los Angeles</td>\n",
       "      <td>California</td>\n",
       "      <td>90036</td>\n",
       "      <td>West</td>\n",
       "      <td>Office Supplies</td>\n",
       "      <td>Labels</td>\n",
       "      <td>14.6200</td>\n",
       "      <td>2</td>\n",
       "      <td>0.00</td>\n",
       "      <td>6.8714</td>\n",
       "    </tr>\n",
       "    <tr>\n",
       "      <th>3</th>\n",
       "      <td>Standard Class</td>\n",
       "      <td>Consumer</td>\n",
       "      <td>United States</td>\n",
       "      <td>Fort Lauderdale</td>\n",
       "      <td>Florida</td>\n",
       "      <td>33311</td>\n",
       "      <td>South</td>\n",
       "      <td>Furniture</td>\n",
       "      <td>Tables</td>\n",
       "      <td>957.5775</td>\n",
       "      <td>5</td>\n",
       "      <td>0.45</td>\n",
       "      <td>-383.0310</td>\n",
       "    </tr>\n",
       "    <tr>\n",
       "      <th>4</th>\n",
       "      <td>Standard Class</td>\n",
       "      <td>Consumer</td>\n",
       "      <td>United States</td>\n",
       "      <td>Fort Lauderdale</td>\n",
       "      <td>Florida</td>\n",
       "      <td>33311</td>\n",
       "      <td>South</td>\n",
       "      <td>Office Supplies</td>\n",
       "      <td>Storage</td>\n",
       "      <td>22.3680</td>\n",
       "      <td>2</td>\n",
       "      <td>0.20</td>\n",
       "      <td>2.5164</td>\n",
       "    </tr>\n",
       "  </tbody>\n",
       "</table>\n",
       "</div>"
      ],
      "text/plain": [
       "        Ship Mode    Segment        Country             City       State  \\\n",
       "0    Second Class   Consumer  United States        Henderson    Kentucky   \n",
       "1    Second Class   Consumer  United States        Henderson    Kentucky   \n",
       "2    Second Class  Corporate  United States      Los Angeles  California   \n",
       "3  Standard Class   Consumer  United States  Fort Lauderdale     Florida   \n",
       "4  Standard Class   Consumer  United States  Fort Lauderdale     Florida   \n",
       "\n",
       "   Postal Code Region         Category Sub-Category     Sales  Quantity  \\\n",
       "0        42420  South        Furniture    Bookcases  261.9600         2   \n",
       "1        42420  South        Furniture       Chairs  731.9400         3   \n",
       "2        90036   West  Office Supplies       Labels   14.6200         2   \n",
       "3        33311  South        Furniture       Tables  957.5775         5   \n",
       "4        33311  South  Office Supplies      Storage   22.3680         2   \n",
       "\n",
       "   Discount    Profit  \n",
       "0      0.00   41.9136  \n",
       "1      0.00  219.5820  \n",
       "2      0.00    6.8714  \n",
       "3      0.45 -383.0310  \n",
       "4      0.20    2.5164  "
      ]
     },
     "execution_count": 12,
     "metadata": {},
     "output_type": "execute_result"
    }
   ],
   "source": [
    "df.head(5)"
   ]
  },
  {
   "cell_type": "code",
   "execution_count": 14,
   "id": "f73543dc-21dd-4b79-ae98-9ec7efd313f7",
   "metadata": {},
   "outputs": [
    {
     "name": "stdout",
     "output_type": "stream",
     "text": [
      "Shape of the DataFrame: (9994, 13)\n"
     ]
    }
   ],
   "source": [
    "#  Exploring the structure of the DataFrame\n",
    "print(\"Shape of the DataFrame:\", df.shape)"
   ]
  },
  {
   "cell_type": "code",
   "execution_count": 15,
   "id": "6b294912-a36c-4a0a-843f-9e2cbd3bafa0",
   "metadata": {},
   "outputs": [
    {
     "name": "stdout",
     "output_type": "stream",
     "text": [
      "\n",
      "Data Types:\n",
      " Ship Mode        object\n",
      "Segment          object\n",
      "Country          object\n",
      "City             object\n",
      "State            object\n",
      "Postal Code       int64\n",
      "Region           object\n",
      "Category         object\n",
      "Sub-Category     object\n",
      "Sales           float64\n",
      "Quantity          int64\n",
      "Discount        float64\n",
      "Profit          float64\n",
      "dtype: object\n"
     ]
    }
   ],
   "source": [
    "print(\"\\nData Types:\\n\", df.dtypes)"
   ]
  },
  {
   "cell_type": "code",
   "execution_count": 16,
   "id": "6b868f92-5331-4ee7-a95d-612fe3142a2e",
   "metadata": {},
   "outputs": [
    {
     "name": "stdout",
     "output_type": "stream",
     "text": [
      "\n",
      "Missing Values:\n",
      " Ship Mode       0\n",
      "Segment         0\n",
      "Country         0\n",
      "City            0\n",
      "State           0\n",
      "Postal Code     0\n",
      "Region          0\n",
      "Category        0\n",
      "Sub-Category    0\n",
      "Sales           0\n",
      "Quantity        0\n",
      "Discount        0\n",
      "Profit          0\n",
      "dtype: int64\n"
     ]
    }
   ],
   "source": [
    "print(\"\\nMissing Values:\\n\", df.isnull().sum())"
   ]
  },
  {
   "cell_type": "code",
   "execution_count": 17,
   "id": "5b5d3971-3316-4e03-98e9-13067a4d575c",
   "metadata": {},
   "outputs": [
    {
     "name": "stdout",
     "output_type": "stream",
     "text": [
      "\n",
      "Descriptive Statistics (Numerical Columns):\n",
      "         Postal Code         Sales     Quantity     Discount       Profit\n",
      "count   9994.000000   9994.000000  9994.000000  9994.000000  9994.000000\n",
      "mean   55190.379428    229.858001     3.789574     0.156203    28.656896\n",
      "std    32063.693350    623.245101     2.225110     0.206452   234.260108\n",
      "min     1040.000000      0.444000     1.000000     0.000000 -6599.978000\n",
      "25%    23223.000000     17.280000     2.000000     0.000000     1.728750\n",
      "50%    56430.500000     54.490000     3.000000     0.200000     8.666500\n",
      "75%    90008.000000    209.940000     5.000000     0.200000    29.364000\n",
      "max    99301.000000  22638.480000    14.000000     0.800000  8399.976000\n"
     ]
    }
   ],
   "source": [
    "#  Descriptive statistics for numerical columns\n",
    "print(\"\\nDescriptive Statistics (Numerical Columns):\\n\", df.describe())"
   ]
  },
  {
   "cell_type": "code",
   "execution_count": 18,
   "id": "fbd11d2b-00ca-4dcd-aaa7-f41c071816aa",
   "metadata": {},
   "outputs": [
    {
     "name": "stdout",
     "output_type": "stream",
     "text": [
      "\n",
      "Descriptive Statistics (All Columns):\n",
      "              Ship Mode   Segment        Country           City       State  \\\n",
      "count             9994      9994           9994           9994        9994   \n",
      "unique               4         3              1            531          49   \n",
      "top     Standard Class  Consumer  United States  New York City  California   \n",
      "freq              5968      5191           9994            915        2001   \n",
      "mean               NaN       NaN            NaN            NaN         NaN   \n",
      "std                NaN       NaN            NaN            NaN         NaN   \n",
      "min                NaN       NaN            NaN            NaN         NaN   \n",
      "25%                NaN       NaN            NaN            NaN         NaN   \n",
      "50%                NaN       NaN            NaN            NaN         NaN   \n",
      "75%                NaN       NaN            NaN            NaN         NaN   \n",
      "max                NaN       NaN            NaN            NaN         NaN   \n",
      "\n",
      "         Postal Code Region         Category Sub-Category         Sales  \\\n",
      "count    9994.000000   9994             9994         9994   9994.000000   \n",
      "unique           NaN      4                3           17           NaN   \n",
      "top              NaN   West  Office Supplies      Binders           NaN   \n",
      "freq             NaN   3203             6026         1523           NaN   \n",
      "mean    55190.379428    NaN              NaN          NaN    229.858001   \n",
      "std     32063.693350    NaN              NaN          NaN    623.245101   \n",
      "min      1040.000000    NaN              NaN          NaN      0.444000   \n",
      "25%     23223.000000    NaN              NaN          NaN     17.280000   \n",
      "50%     56430.500000    NaN              NaN          NaN     54.490000   \n",
      "75%     90008.000000    NaN              NaN          NaN    209.940000   \n",
      "max     99301.000000    NaN              NaN          NaN  22638.480000   \n",
      "\n",
      "           Quantity     Discount       Profit  \n",
      "count   9994.000000  9994.000000  9994.000000  \n",
      "unique          NaN          NaN          NaN  \n",
      "top             NaN          NaN          NaN  \n",
      "freq            NaN          NaN          NaN  \n",
      "mean       3.789574     0.156203    28.656896  \n",
      "std        2.225110     0.206452   234.260108  \n",
      "min        1.000000     0.000000 -6599.978000  \n",
      "25%        2.000000     0.000000     1.728750  \n",
      "50%        3.000000     0.200000     8.666500  \n",
      "75%        5.000000     0.200000    29.364000  \n",
      "max       14.000000     0.800000  8399.976000  \n"
     ]
    }
   ],
   "source": [
    "# Descriptive statistics for all columns including categorical data\n",
    "print(\"\\nDescriptive Statistics (All Columns):\\n\", df.describe(include='all'))"
   ]
  },
  {
   "cell_type": "code",
   "execution_count": 19,
   "id": "277c7eda-0c5b-4c69-b849-17fa3cc8a2c8",
   "metadata": {},
   "outputs": [
    {
     "name": "stdout",
     "output_type": "stream",
     "text": [
      "\n",
      "Selected Columns:\n",
      "               City       State     Sales    Profit\n",
      "0        Henderson    Kentucky  261.9600   41.9136\n",
      "1        Henderson    Kentucky  731.9400  219.5820\n",
      "2      Los Angeles  California   14.6200    6.8714\n",
      "3  Fort Lauderdale     Florida  957.5775 -383.0310\n",
      "4  Fort Lauderdale     Florida   22.3680    2.5164\n"
     ]
    }
   ],
   "source": [
    "#  Selecting specific columns\n",
    "# For example, selecting 'City', 'State', 'Sales', and 'Profit' columns\n",
    "selected_columns = df[['City', 'State', 'Sales', 'Profit']]\n",
    "print(\"\\nSelected Columns:\\n\", selected_columns.head())"
   ]
  },
  {
   "cell_type": "code",
   "execution_count": 21,
   "id": "d89eb4c0-6bb2-4c8b-9c90-49c12388d372",
   "metadata": {},
   "outputs": [
    {
     "name": "stdout",
     "output_type": "stream",
     "text": [
      "\n",
      "Rows where Sales > 1000:\n",
      "          Ship Mode    Segment        Country           City         State  \\\n",
      "10  Standard Class   Consumer  United States    Los Angeles    California   \n",
      "24  Standard Class   Consumer  United States           Orem          Utah   \n",
      "27  Standard Class   Consumer  United States   Philadelphia  Pennsylvania   \n",
      "35     First Class  Corporate  United States     Richardson         Texas   \n",
      "54  Standard Class  Corporate  United States  New York City      New York   \n",
      "\n",
      "    Postal Code   Region    Category Sub-Category     Sales  Quantity  \\\n",
      "10        90032     West   Furniture       Tables  1706.184         9   \n",
      "24        84057     West   Furniture       Tables  1044.630         3   \n",
      "27        19140     East   Furniture    Bookcases  3083.430         7   \n",
      "35        75080  Central  Technology       Phones  1097.544         7   \n",
      "54        10024     East  Technology       Phones  1029.950         5   \n",
      "\n",
      "    Discount     Profit  \n",
      "10       0.2    85.3092  \n",
      "24       0.0   240.2649  \n",
      "27       0.5 -1665.0522  \n",
      "35       0.2   123.4737  \n",
      "54       0.0   298.6855  \n"
     ]
    }
   ],
   "source": [
    "# Filtering rows where Sales are greater than 1000\n",
    "filtered_rows = df[df['Sales'] > 1000]\n",
    "print(\"\\nRows where Sales > 1000:\\n\", filtered_rows.head())"
   ]
  },
  {
   "cell_type": "code",
   "execution_count": 22,
   "id": "390216d9-c126-4991-a780-a8e178fac123",
   "metadata": {},
   "outputs": [
    {
     "name": "stdout",
     "output_type": "stream",
     "text": [
      "\n",
      "Unique Categories:\n",
      " ['Furniture' 'Office Supplies' 'Technology']\n"
     ]
    }
   ],
   "source": [
    "# Checking for unique values in the 'Category' column\n",
    "unique_categories = df['Category'].unique()\n",
    "print(\"\\nUnique Categories:\\n\", unique_categories)\n"
   ]
  },
  {
   "cell_type": "code",
   "execution_count": null,
   "id": "610e3cbc-a49c-4bee-b35f-da711f925f73",
   "metadata": {},
   "outputs": [],
   "source": []
  }
 ],
 "metadata": {
  "kernelspec": {
   "display_name": "Python 3 (ipykernel)",
   "language": "python",
   "name": "python3"
  },
  "language_info": {
   "codemirror_mode": {
    "name": "ipython",
    "version": 3
   },
   "file_extension": ".py",
   "mimetype": "text/x-python",
   "name": "python",
   "nbconvert_exporter": "python",
   "pygments_lexer": "ipython3",
   "version": "3.11.7"
  }
 },
 "nbformat": 4,
 "nbformat_minor": 5
}
