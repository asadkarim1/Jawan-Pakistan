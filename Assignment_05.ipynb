{
 "cells": [
  {
   "cell_type": "markdown",
   "id": "b6a371fd-7ccc-4b8f-81e1-9da95cb27f2e",
   "metadata": {},
   "source": [
    "# # Name: Assad Karim\n",
    "# Roll No :KJPADAC12677"
   ]
  },
  {
   "cell_type": "code",
   "execution_count": 7,
   "id": "fe6423b3-89d3-4836-9729-1fe9dfbcb7f7",
   "metadata": {},
   "outputs": [
    {
     "name": "stdout",
     "output_type": "stream",
     "text": [
      "Employee 1 ID: 101\n",
      "Employee 1 Name: Ali\n",
      "Employee 1 Department: HR\n",
      "Employee 2 ID: 102\n",
      "Employee 2 Name: Bilal\n",
      "Employee 2 Department: IT\n",
      "Employee 3 ID: 103\n",
      "Employee 3 Name: Saad\n",
      "Employee 3 Department: Finance\n"
     ]
    }
   ],
   "source": [
    "# 5.1\n",
    "emp1 = (101, \"Ali\", \"HR\")\n",
    "emp2 = (102, \"Bilal\", \"IT\")\n",
    "emp3 = (103, \"Saad\", \"Finance\")\n",
    "\n",
    "print(\"Employee 1 ID:\", emp1[0])\n",
    "print(\"Employee 1 Name:\", emp1[1])\n",
    "print(\"Employee 1 Department:\", emp1[2])\n",
    "\n",
    "\n",
    "print(\"Employee 2 ID:\", emp2[0])\n",
    "print(\"Employee 2 Name:\", emp2[1])\n",
    "print(\"Employee 2 Department:\", emp2[2])\n",
    "\n",
    "\n",
    "print(\"Employee 3 ID:\", emp3[0])\n",
    "print(\"Employee 3 Name:\", emp3[1])\n",
    "print(\"Employee 3 Department:\", emp3[2])\n",
    "\n"
   ]
  },
  {
   "cell_type": "code",
   "execution_count": 8,
   "id": "0eae1230-9e83-4a5f-b5bf-3d21c6de9455",
   "metadata": {},
   "outputs": [
    {
     "name": "stdout",
     "output_type": "stream",
     "text": [
      "Item 1 ID: 4001\n",
      "Item 1 Description: Laptop\n",
      "Item 1 Quantity: 15\n",
      "Item 2 ID: 4002\n",
      "Item 2 Description: Mouse\n",
      "Item 2 Quantity: 100\n",
      "Item 2 ID: 4003\n",
      "Item 2 Description: Keyboard\n",
      "Item 2 Quantity: 50\n"
     ]
    }
   ],
   "source": [
    "#5.2\n",
    "\n",
    "\n",
    "item1 = (4001, \"Laptop\", 15)\n",
    "item2 = (4002, \"Mouse\", 100)\n",
    "item3 = (4003, \"Keyboard\", 50)\n",
    "\n",
    "print(\"Item 1 ID:\", item1[0])\n",
    "print(\"Item 1 Description:\", item1[1])\n",
    "print(\"Item 1 Quantity:\", item1[2])\n",
    "\n",
    "print(\"Item 2 ID:\", item2[0])\n",
    "print(\"Item 2 Description:\", item2[1])\n",
    "print(\"Item 2 Quantity:\", item2[2])\n",
    "\n",
    "print(\"Item 2 ID:\", item3[0])\n",
    "print(\"Item 2 Description:\", item3[1])\n",
    "print(\"Item 2 Quantity:\", item3[2])\n"
   ]
  },
  {
   "cell_type": "code",
   "execution_count": 10,
   "id": "fc412d0a-13cd-4d6c-906c-7e41f3090e74",
   "metadata": {},
   "outputs": [
    {
     "name": "stdout",
     "output_type": "stream",
     "text": [
      "Meeting 1 Date: 2024-08-20\n",
      "Meeting 1 Time: 14:00\n",
      "Meeting 2 Date: 2024-08-21\n",
      "Meeting 2 Time: 10:30\n",
      "Meeting 3 Date: 2024-08-19\n",
      "Meeting 3 Time: 11:30\n",
      "Appointment Date: 2024-08-22\n",
      "Appointment Time: 09:00\n"
     ]
    }
   ],
   "source": [
    "#5.3\n",
    "\n",
    "meet1 = (\"2024-08-20\", \"14:00\")\n",
    "meet2 = (\"2024-08-21\", \"10:30\") \n",
    "meet3 = (\"2024-08-19\", \"11:30\")\n",
    "appointment = (\"2024-08-22\", \"09:00\")\n",
    "\n",
    "print(\"Meeting 1 Date:\", meet1[0])\n",
    "print(\"Meeting 1 Time:\", meet1[1])\n",
    "\n",
    "print(\"Meeting 2 Date:\", meet2[0])\n",
    "print(\"Meeting 2 Time:\", meet2[1])\n",
    "\n",
    "print(\"Meeting 3 Date:\", meet3[0])\n",
    "print(\"Meeting 3 Time:\", meet3[1])\n",
    "\n",
    "print(\"Appointment Date:\", appointment[0])\n",
    "print(\"Appointment Time:\", appointment[1])\n"
   ]
  },
  {
   "cell_type": "code",
   "execution_count": 14,
   "id": "05d1fc12-d9ad-4ed7-a8ee-c759c9faa2e3",
   "metadata": {},
   "outputs": [
    {
     "name": "stdout",
     "output_type": "stream",
     "text": [
      "Department: Sales\n",
      "Name: Ali\n",
      "ID: 1\n",
      "Title: Sales Manager\n",
      "\n",
      "Department: Marketing\n",
      "Name: Bilal\n",
      "ID: 2\n",
      "Title: Marketing Manager\n",
      "\n",
      "Department: IT\n",
      "Name: Saad\n",
      "ID: 3\n",
      "Title: IT Manager\n",
      "\n"
     ]
    }
   ],
   "source": [
    "\n",
    "# 5.4 \n",
    "\n",
    "departments = {}\n",
    "\n",
    "\n",
    "departments[\"Sales\"] = {\n",
    "    \"Ali\": {\"ID\": 1, \"Title\": \"Sales Manager\"}}\n",
    "departments[\"Marketing\"] = {\n",
    "    \"Bilal\": {\"ID\": 2, \"Title\": \"Marketing Manager\"}}\n",
    "departments[\"IT\"] = {\n",
    "    \"Saad\": {\"ID\": 3, \"Title\": \"IT Manager\"}}\n",
    "\n",
    "for department in departments:\n",
    "    print(\"Department:\", department)\n",
    "    for employee in departments[department]:\n",
    "        details = departments[department][employee]\n",
    "        print(\"Name:\", employee)\n",
    "        print(\"ID:\", details[\"ID\"])\n",
    "        print(\"Title:\", details[\"Title\"])\n",
    "        print()\n"
   ]
  },
  {
   "cell_type": "code",
   "execution_count": 17,
   "id": "8f724701-d62d-4bbf-83dd-a6837b3f2391",
   "metadata": {},
   "outputs": [
    {
     "name": "stdout",
     "output_type": "stream",
     "text": [
      "Bilal Math Score: 76\n",
      "Bilal Programing Score: 84\n"
     ]
    }
   ],
   "source": [
    "# 5.5\n",
    "\n",
    "std = [\n",
    "    {\"name\": \"Ali\", \"scores\": {\"Math\": 82, \"Programing\": 91}},\n",
    "    {\"name\": \"Bilal\", \"scores\": {\"Math\": 76, \"Programing\": 84}},\n",
    "    {\"name\": \"Asad\", \"scores\": {\"Math\": 89, \"Programing\": 93}}\n",
    "]\n",
    "\n",
    "# Retrieving a student's scores\n",
    "for student in std:\n",
    "    if student[\"name\"] == \"Bilal\":\n",
    "        print(\"Bilal Math Score:\", student[\"scores\"][\"Math\"])\n",
    "        print(\"Bilal Programing Score:\", student[\"scores\"][\"Programing\"])\n"
   ]
  },
  {
   "cell_type": "code",
   "execution_count": 21,
   "id": "fb9f42fb-e43a-4b51-aaf1-7553623a9031",
   "metadata": {},
   "outputs": [
    {
     "name": "stdout",
     "output_type": "stream",
     "text": [
      "Project: ProjectA\n",
      "Task: Task1\n",
      "Task: Task2\n",
      "Task: Task3\n",
      "\n",
      "Project: ProjectB\n",
      "Task: Task4\n",
      "Task: Task5\n",
      "\n",
      "Project: ProjectC\n",
      "Task: Task6\n",
      "Task: Task7\n",
      "Task: Task8\n",
      "Task: Task9\n",
      "\n"
     ]
    }
   ],
   "source": [
    "#5.6\n",
    "\n",
    "projects = {\n",
    "    \"ProjectA\": [\"Task1\", \"Task2\", \"Task3\"],\n",
    "    \"ProjectB\": [\"Task4\", \"Task5\"],\n",
    "    \"ProjectC\": [\"Task6\", \"Task7\", \"Task8\", \"Task9\"]\n",
    "}\n",
    "\n",
    "\n",
    "for project, tasks in projects.items():\n",
    "    print(\"Project:\", project)\n",
    "    for task in tasks:\n",
    "        print(\"Task:\", task)\n",
    "    print()\n",
    "\n"
   ]
  },
  {
   "cell_type": "code",
   "execution_count": 24,
   "id": "90a7760c-11b1-426b-a20f-1b45259e67cf",
   "metadata": {},
   "outputs": [
    {
     "name": "stdout",
     "output_type": "stream",
     "text": [
      "Course: Course 1\n",
      "Module: Module 1\n",
      "Content: Introduction\n",
      "Module: Module 2\n",
      "Content: Basics\n",
      "\n",
      "Course: Course 2\n",
      "Module: Module 3\n",
      "Content: Advanced\n",
      "Module: Module 4\n",
      "Content: Expert\n",
      "\n",
      "Course: Course 3\n",
      "Module: Module 5\n",
      "Content: Specialized\n",
      "Module: Module 6\n",
      "Content: Mastery\n",
      "\n"
     ]
    }
   ],
   "source": [
    "#5.7\n",
    "\n",
    "\n",
    "courses = {}\n",
    "\n",
    "courses[\"Course 1\"] = {\"Module 1\": \"Introduction\", \n",
    "                       \"Module 2\": \"Basics\"}\n",
    "courses[\"Course 2\"] = {\"Module 3\": \"Advanced\", \n",
    "                       \"Module 4\": \"Expert\"}\n",
    "courses[\"Course 3\"] = {\"Module 5\": \"Specialized\", \n",
    "                       \"Module 6\": \"Mastery\"}\n",
    "\n",
    "for course, modules in courses.items():\n",
    "    print(\"Course:\", course)\n",
    "    for module, content in modules.items():\n",
    "        print(\"Module:\", module)\n",
    "        print(\"Content:\", content)\n",
    "    print()"
   ]
  },
  {
   "cell_type": "code",
   "execution_count": 31,
   "id": "4ccff9db-4142-44e8-81e6-b6968863f68a",
   "metadata": {},
   "outputs": [
    {
     "name": "stdout",
     "output_type": "stream",
     "text": [
      "Products below 700\n",
      "Product: Mouse\n",
      "Price: 500\n",
      "\n",
      "Product: Keyboard\n",
      "Price: 600\n",
      "\n"
     ]
    }
   ],
   "source": [
    "# List of products with their prices\n",
    "products = [\n",
    "    (\"Mouse\", 500), (\"Keyboard\", 600),(\"Ram\", 2500),(\"SDD\", 4000),(\"ROM\", 1500)\n",
    "]\n",
    "\n",
    "# Price threshold\n",
    "price_threshold = 700\n",
    "\n",
    "cheap_products = []\n",
    "\n",
    "\n",
    "for product in products:\n",
    "    if product[1] < price_threshold:\n",
    "        cheap_products = cheap_products + [product]\n",
    "\n",
    "\n",
    "print(\"Products below\", price_threshold)\n",
    "for product in cheap_products:\n",
    "    print(\"Product:\", product[0])\n",
    "    print(\"Price:\", product[1])\n",
    "    print()"
   ]
  },
  {
   "cell_type": "code",
   "execution_count": null,
   "id": "d9a8f4ae-1319-42af-a4d5-de45a9b912e1",
   "metadata": {},
   "outputs": [],
   "source": []
  }
 ],
 "metadata": {
  "kernelspec": {
   "display_name": "Python 3 (ipykernel)",
   "language": "python",
   "name": "python3"
  },
  "language_info": {
   "codemirror_mode": {
    "name": "ipython",
    "version": 3
   },
   "file_extension": ".py",
   "mimetype": "text/x-python",
   "name": "python",
   "nbconvert_exporter": "python",
   "pygments_lexer": "ipython3",
   "version": "3.11.7"
  }
 },
 "nbformat": 4,
 "nbformat_minor": 5
}
