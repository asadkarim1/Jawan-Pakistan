{
 "cells": [
  {
   "cell_type": "markdown",
   "id": "487e0f1f-ecd2-4c19-b076-89d71798d8f5",
   "metadata": {},
   "source": [
    "# # Name: Assad Karim\n",
    "# Roll No :KJPADAC12677"
   ]
  },
  {
   "cell_type": "markdown",
   "id": "25efe238-16cd-4d03-9fa0-6c910e6b5bea",
   "metadata": {},
   "source": [
    "# 4.1\n"
   ]
  },
  {
   "cell_type": "code",
   "execution_count": 4,
   "id": "d07730b9-40b9-4122-a702-5626854519e5",
   "metadata": {},
   "outputs": [
    {
     "name": "stdout",
     "output_type": "stream",
     "text": [
      "Dear Ali, you are cordially invited to dinner.\n",
      "Dear Moeez, you are cordially invited to dinner.\n",
      "Dear Shah, you are cordially invited to dinner.\n"
     ]
    }
   ],
   "source": [
    "g_list = [\"Ali\", \"Moeez\", \"Shah\"]\n",
    "\n",
    "# Printing invitation messages\n",
    "print(\"Dear \" + g_list[0] + \", you are cordially invited to dinner.\")\n",
    "print(\"Dear \" + g_list[1] + \", you are cordially invited to dinner.\")\n",
    "print(\"Dear \" + g_list[2] + \", you are cordially invited to dinner.\")\n"
   ]
  },
  {
   "cell_type": "markdown",
   "id": "c96f9710-6367-40cc-be17-24596f2faab4",
   "metadata": {},
   "source": [
    "# 4.2"
   ]
  },
  {
   "cell_type": "code",
   "execution_count": 5,
   "id": "881ccaf0-3ce5-4678-b18b-f5cc4e4c19d4",
   "metadata": {},
   "outputs": [
    {
     "name": "stdout",
     "output_type": "stream",
     "text": [
      "Unfortunately, Ali can't make it to dinner.\n",
      "Dear Arslan, you are still invited to dinner.\n",
      "Dear Moeez, you are still invited to dinner.\n",
      "Dear Shah, you are still invited to dinner.\n"
     ]
    }
   ],
   "source": [
    "# One guest can't make it\n",
    "unable_to_attend = g_list[0]\n",
    "print(\"Unfortunately, \" + unable_to_attend + \" can't make it to dinner.\")\n",
    "\n",
    "# Replacing the guest who can't attend\n",
    "g_list[0] = \"Arslan\"\n",
    "\n",
    "# Printing new set of invitation messages\n",
    "print(\"Dear \" + g_list[0] + \", you are still invited to dinner.\")\n",
    "print(\"Dear \" + g_list[1] + \", you are still invited to dinner.\")\n",
    "print(\"Dear \" + g_list[2] + \", you are still invited to dinner.\")\n"
   ]
  },
  {
   "cell_type": "markdown",
   "id": "56155723-6460-490b-882e-64b1515dcb49",
   "metadata": {},
   "source": [
    "# 4.3"
   ]
  },
  {
   "cell_type": "code",
   "execution_count": 7,
   "id": "1dcba8b4-e9e1-406a-8e9c-348d39ba4ecd",
   "metadata": {},
   "outputs": [
    {
     "name": "stdout",
     "output_type": "stream",
     "text": [
      "Great news! We found a bigger dinner table and can invite more guests.\n",
      "Dear Alim, you are now invited to dinner.\n",
      "Dear Arslan, you are now invited to dinner.\n",
      "Dear Asad, you are now invited to dinner.\n",
      "Dear Moeez, you are now invited to dinner.\n",
      "Dear Shah, you are now invited to dinner.\n",
      "Dear Adam, you are now invited to dinner.\n"
     ]
    }
   ],
   "source": [
    "# Announcing the bigger dinner table\n",
    "print(\"Great news! We found a bigger dinner table and can invite more guests.\")\n",
    "\n",
    "# Adding three more guests\n",
    "g_list.insert(0, \"Alim\")  # Adding at the beginning\n",
    "g_list.insert(2, \"Asad\")  # Adding in the middle\n",
    "g_list.append(\"Adam\")  # Adding at the end\n",
    "\n",
    "# Printing new invitation messages\n",
    "print(\"Dear \" + g_list[0] + \", you are now invited to dinner.\")\n",
    "print(\"Dear \" + g_list[1] + \", you are now invited to dinner.\")\n",
    "print(\"Dear \" + g_list[2] + \", you are now invited to dinner.\")\n",
    "print(\"Dear \" + g_list[3] + \", you are now invited to dinner.\")\n",
    "print(\"Dear \" + g_list[4] + \", you are now invited to dinner.\")\n",
    "print(\"Dear \" + g_list[5] + \", you are now invited to dinner.\")\n"
   ]
  },
  {
   "cell_type": "markdown",
   "id": "8f84898c-a611-4682-bdf5-a60ea108d553",
   "metadata": {},
   "source": [
    "# 4.4"
   ]
  },
  {
   "cell_type": "code",
   "execution_count": 8,
   "id": "0e6fa93b-a27b-463b-875d-7244ee1adec6",
   "metadata": {},
   "outputs": [
    {
     "name": "stdout",
     "output_type": "stream",
     "text": [
      "Sorry, the new dinner table won't arrive in time, so I can only invite two people.\n",
      "Sorry Adam, I can't invite you to dinner this time.\n",
      "Sorry Shah, I can't invite you to dinner this time.\n",
      "Sorry Moeez, I can't invite you to dinner this time.\n",
      "Sorry Asad, I can't invite you to dinner this time.\n",
      "Dear Alim, you are still invited to dinner.\n",
      "Dear Arslan, you are still invited to dinner.\n",
      "Final guest list: []\n"
     ]
    }
   ],
   "source": [
    "# Announcing the limitation of only two guests\n",
    "print(\"Sorry, the new dinner table won't arrive in time, so I can only invite two people.\")\n",
    "\n",
    "# Removing guests until only two are left\n",
    "removed_guest = g_list.pop()\n",
    "print(\"Sorry \" + removed_guest + \", I can't invite you to dinner this time.\")\n",
    "\n",
    "removed_guest = g_list.pop()\n",
    "print(\"Sorry \" + removed_guest + \", I can't invite you to dinner this time.\")\n",
    "\n",
    "removed_guest = g_list.pop()\n",
    "print(\"Sorry \" + removed_guest + \", I can't invite you to dinner this time.\")\n",
    "\n",
    "removed_guest = g_list.pop()\n",
    "print(\"Sorry \" + removed_guest + \", I can't invite you to dinner this time.\")\n",
    "\n",
    "# Printing messages to the remaining guests\n",
    "print(\"Dear \" + g_list[0] + \", you are still invited to dinner.\")\n",
    "print(\"Dear \" + g_list[1] + \", you are still invited to dinner.\")\n",
    "\n",
    "# Clearing the list\n",
    "del g_list[0]\n",
    "del g_list[0]\n",
    "\n",
    "# Verifying the list is empty\n",
    "print(\"Final guest list: \" + str(g_list))  # Should print an empty list\n"
   ]
  },
  {
   "cell_type": "markdown",
   "id": "0fca6c5f-8a09-4982-8bc0-61ca790db217",
   "metadata": {},
   "source": [
    "# 4.5"
   ]
  },
  {
   "cell_type": "code",
   "execution_count": 10,
   "id": "3b8c4d48-aa76-41cc-a393-befedb30ed5f",
   "metadata": {},
   "outputs": [
    {
     "name": "stdout",
     "output_type": "stream",
     "text": [
      "First element: 10\n",
      "Last element: 100\n",
      "First three elements: [10, 20, 30]\n",
      "Middle elements: [40, 50, 60, 70]\n",
      "Every other element: [10, 30, 50, 70, 90]\n"
     ]
    }
   ],
   "source": [
    "num = [10, 20, 30, 40, 50, 60, 70, 80, 90, 100]\n",
    "\n",
    "# Indexing operations\n",
    "print(\"First element: \" + str(num[0]))   # Accessing first element\n",
    "print(\"Last element: \" + str(num[-1]))  # Accessing last element\n",
    "\n",
    "# Slicing operations\n",
    "print(\"First three elements: \" + str(num[:3]))   # Slicing first three elements\n",
    "print(\"Middle elements: \" + str(num[3:7]))       # Slicing elements from 4th to 7th\n",
    "print(\"Every other element: \" + str(num[::2]))   # Slicing with a step\n"
   ]
  },
  {
   "cell_type": "code",
   "execution_count": null,
   "id": "3620d283-f73f-4870-8ef2-1697603a8ee7",
   "metadata": {},
   "outputs": [],
   "source": []
  }
 ],
 "metadata": {
  "kernelspec": {
   "display_name": "Python 3 (ipykernel)",
   "language": "python",
   "name": "python3"
  },
  "language_info": {
   "codemirror_mode": {
    "name": "ipython",
    "version": 3
   },
   "file_extension": ".py",
   "mimetype": "text/x-python",
   "name": "python",
   "nbconvert_exporter": "python",
   "pygments_lexer": "ipython3",
   "version": "3.11.7"
  }
 },
 "nbformat": 4,
 "nbformat_minor": 5
}
